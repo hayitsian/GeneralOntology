{
 "cells": [
  {
   "cell_type": "code",
   "execution_count": null,
   "metadata": {},
   "outputs": [],
   "source": []
  }
 ],
 "metadata": {
  "kernelspec": {
   "display_name": "generalOntology",
   "language": "python",
   "name": "python3"
  },
  "language_info": {
   "name": "python",
   "version": "3.11.0"
  },
  "orig_nbformat": 4,
  "vscode": {
   "interpreter": {
    "hash": "ec2e6d7244e83f615102bea4c58c934a5fca145538396ddb2b74e8ba0a929f4a"
   }
  }
 },
 "nbformat": 4,
 "nbformat_minor": 2
}
