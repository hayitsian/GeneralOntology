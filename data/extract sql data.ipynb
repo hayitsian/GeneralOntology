{
 "cells": [
  {
   "cell_type": "code",
   "execution_count": 1,
   "metadata": {},
   "outputs": [
    {
     "ename": "DatabaseError",
     "evalue": "file is not a database",
     "output_type": "error",
     "traceback": [
      "\u001b[1;31m---------------------------------------------------------------------------\u001b[0m",
      "\u001b[1;31mDatabaseError\u001b[0m                             Traceback (most recent call last)",
      "\u001b[1;32mc:\\Users\\ianha\\Documents\\GitHub\\General-Index-Visualization\\models\\extract sql data.ipynb Cell 1\u001b[0m in \u001b[0;36m<cell line: 10>\u001b[1;34m()\u001b[0m\n\u001b[0;32m      <a href='vscode-notebook-cell:/c%3A/Users/ianha/Documents/GitHub/General-Index-Visualization/models/extract%20sql%20data.ipynb#W0sZmlsZQ%3D%3D?line=7'>8</a>\u001b[0m query \u001b[39m=\u001b[39m \u001b[39m\"\u001b[39m\u001b[39mSELECT name FROM sqlite_master WHERE type = \u001b[39m\u001b[39m'\u001b[39m\u001b[39mtable\u001b[39m\u001b[39m'\u001b[39m\u001b[39m\"\u001b[39m\n\u001b[0;32m      <a href='vscode-notebook-cell:/c%3A/Users/ianha/Documents/GitHub/General-Index-Visualization/models/extract%20sql%20data.ipynb#W0sZmlsZQ%3D%3D?line=8'>9</a>\u001b[0m \u001b[39m# reading all table names\u001b[39;00m\n\u001b[1;32m---> <a href='vscode-notebook-cell:/c%3A/Users/ianha/Documents/GitHub/General-Index-Visualization/models/extract%20sql%20data.ipynb#W0sZmlsZQ%3D%3D?line=9'>10</a>\u001b[0m table_list \u001b[39m=\u001b[39m [a \u001b[39mfor\u001b[39;00m a \u001b[39min\u001b[39;00m cursor\u001b[39m.\u001b[39;49mexecute(query)]\n\u001b[0;32m     <a href='vscode-notebook-cell:/c%3A/Users/ianha/Documents/GitHub/General-Index-Visualization/models/extract%20sql%20data.ipynb#W0sZmlsZQ%3D%3D?line=10'>11</a>\u001b[0m \u001b[39m# here is you table list\u001b[39;00m\n\u001b[0;32m     <a href='vscode-notebook-cell:/c%3A/Users/ianha/Documents/GitHub/General-Index-Visualization/models/extract%20sql%20data.ipynb#W0sZmlsZQ%3D%3D?line=11'>12</a>\u001b[0m \u001b[39mprint\u001b[39m(table_list)\n",
      "\u001b[1;31mDatabaseError\u001b[0m: file is not a database"
     ]
    }
   ],
   "source": [
    "import sqlite3\n",
    "import pandas as pd\n",
    "\n",
    "f = open(\"test_data_100k.csv\", \"w\")\n",
    "connection = sqlite3.connect(\"E:\\The General Index\\doc_ngrams_0.sql\\doc_ngrams\\doc_ngrams_0.sql\")\n",
    "cursor = connection.cursor()\n",
    "\n",
    "query = \"SELECT name FROM sqlite_master WHERE type = 'table'\"\n",
    "# reading all table names\n",
    "table_list = [a for a in cursor.execute(query)]\n",
    "# here is you table list\n",
    "print(table_list)"
   ]
  },
  {
   "cell_type": "code",
   "execution_count": null,
   "metadata": {},
   "outputs": [],
   "source": [
    "cursor.execute(\"SELECT * FROM \")\n",
    "df = pd.DataFrame(cursor.fetchmany(100000))\n",
    "df.to_csv(f, header=False, encoding=\"utf-8\")\n",
    "f.close()\n",
    "cursor.close()\n",
    "connection.close()"
   ]
  },
  {
   "cell_type": "code",
   "execution_count": 12,
   "metadata": {},
   "outputs": [
    {
     "ename": "DatabaseError",
     "evalue": "file is not a database",
     "output_type": "error",
     "traceback": [
      "\u001b[1;31m---------------------------------------------------------------------------\u001b[0m",
      "\u001b[1;31mDatabaseError\u001b[0m                             Traceback (most recent call last)",
      "\u001b[1;32mc:\\Users\\ianha\\Documents\\GitHub\\General-Index-Visualization\\extract sql data.ipynb Cell 2\u001b[0m in \u001b[0;36m<cell line: 8>\u001b[1;34m()\u001b[0m\n\u001b[0;32m      <a href='vscode-notebook-cell:/c%3A/Users/ianha/Documents/GitHub/General-Index-Visualization/extract%20sql%20data.ipynb#ch0000000?line=5'>6</a>\u001b[0m query \u001b[39m=\u001b[39m \u001b[39m\"\u001b[39m\u001b[39mSELECT name FROM sqlite_master WHERE type = \u001b[39m\u001b[39m'\u001b[39m\u001b[39mtable\u001b[39m\u001b[39m'\u001b[39m\u001b[39m\"\u001b[39m\n\u001b[0;32m      <a href='vscode-notebook-cell:/c%3A/Users/ianha/Documents/GitHub/General-Index-Visualization/extract%20sql%20data.ipynb#ch0000000?line=6'>7</a>\u001b[0m \u001b[39m# reading all table names\u001b[39;00m\n\u001b[1;32m----> <a href='vscode-notebook-cell:/c%3A/Users/ianha/Documents/GitHub/General-Index-Visualization/extract%20sql%20data.ipynb#ch0000000?line=7'>8</a>\u001b[0m table_list \u001b[39m=\u001b[39m [a \u001b[39mfor\u001b[39;00m a \u001b[39min\u001b[39;00m cursor\u001b[39m.\u001b[39;49mexecute(query)]\n\u001b[0;32m      <a href='vscode-notebook-cell:/c%3A/Users/ianha/Documents/GitHub/General-Index-Visualization/extract%20sql%20data.ipynb#ch0000000?line=8'>9</a>\u001b[0m \u001b[39m# here is you table list\u001b[39;00m\n\u001b[0;32m     <a href='vscode-notebook-cell:/c%3A/Users/ianha/Documents/GitHub/General-Index-Visualization/extract%20sql%20data.ipynb#ch0000000?line=9'>10</a>\u001b[0m \u001b[39mprint\u001b[39m(table_list)\n",
      "\u001b[1;31mDatabaseError\u001b[0m: file is not a database"
     ]
    }
   ],
   "source": [
    "file = open(\"test data.csv\", \"w\")\n",
    "\n",
    "conn = sqlite3.connect(\"D:\\General Index\\slice0\\doc_keywords_0.sql\\doc_keywords\\doc_keywords_0.db\")\n",
    "cursor = conn.cursor()\n",
    "\n",
    "query = \"SELECT name FROM sqlite_master WHERE type = 'table'\"\n",
    "# reading all table names\n",
    "table_list = [a for a in cursor.execute(query)]\n",
    "# here is you table list\n",
    "print(table_list)"
   ]
  },
  {
   "cell_type": "code",
   "execution_count": null,
   "metadata": {},
   "outputs": [],
   "source": [
    "query = \"select * from doc_keywords_0 order by rowid asc limit 100\"\n",
    "cursor.execute(query)\n",
    "\n",
    "while True:\n",
    "    df = pandas.DataFrame(cursor.fetchmany(1000))\n",
    "    if (len(df) ==0):\n",
    "        break\n",
    "    else:\n",
    "        df.to_csv(file, header=False)\n",
    "file.close()\n",
    "cursor.close()\n",
    "conn.close()"
   ]
  }
 ],
 "metadata": {
  "kernelspec": {
   "display_name": "base",
   "language": "python",
   "name": "python3"
  },
  "language_info": {
   "codemirror_mode": {
    "name": "ipython",
    "version": 3
   },
   "file_extension": ".py",
   "mimetype": "text/x-python",
   "name": "python",
   "nbconvert_exporter": "python",
   "pygments_lexer": "ipython3",
   "version": "3.9.13"
  },
  "orig_nbformat": 4,
  "vscode": {
   "interpreter": {
    "hash": "155974f746c9def5d634c5ca794fe02b4d0533761ca8df544901bc3838d900e0"
   }
  }
 },
 "nbformat": 4,
 "nbformat_minor": 2
}
